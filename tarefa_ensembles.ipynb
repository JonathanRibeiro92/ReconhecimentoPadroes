{
  "nbformat": 4,
  "nbformat_minor": 0,
  "metadata": {
    "colab": {
      "provenance": [],
      "authorship_tag": "ABX9TyPeCqH3yru2xSHitZlPrI5a",
      "include_colab_link": true
    },
    "kernelspec": {
      "name": "python3",
      "display_name": "Python 3"
    },
    "language_info": {
      "name": "python"
    }
  },
  "cells": [
    {
      "cell_type": "markdown",
      "metadata": {
        "id": "view-in-github",
        "colab_type": "text"
      },
      "source": [
        "<a href=\"https://colab.research.google.com/github/JonathanRibeiro92/ReconhecimentoPadroes/blob/main/tarefa_ensembles.ipynb\" target=\"_parent\"><img src=\"https://colab.research.google.com/assets/colab-badge.svg\" alt=\"Open In Colab\"/></a>"
      ]
    },
    {
      "cell_type": "markdown",
      "source": [
        "#Dataset: steel-plates-fault\n",
        "[Dataset OpenML - 1504](https://www.openml.org/search?type=data&sort=runs&status=active&qualities.NumberOfInstances=between_1000_10000&qualities.NumberOfClasses=%3D_2&id=1504)\n",
        "\n",
        "Um conjunto de dados de falhas em chapas de aço, classificadas em 7 tipos diferentes."
      ],
      "metadata": {
        "id": "TcsCSn1E6qd6"
      }
    },
    {
      "cell_type": "code",
      "execution_count": 1,
      "metadata": {
        "colab": {
          "base_uri": "https://localhost:8080/"
        },
        "id": "KNKP6zH957Gg",
        "outputId": "f9cce5a9-e098-4b69-bb1e-7b3f45f44217"
      },
      "outputs": [
        {
          "output_type": "execute_result",
          "data": {
            "text/plain": [
              "dict_keys(['data', 'target', 'frame', 'categories', 'feature_names', 'target_names', 'DESCR', 'details', 'url'])"
            ]
          },
          "metadata": {},
          "execution_count": 1
        }
      ],
      "source": [
        "from sklearn.datasets import fetch_openml\n",
        "\n",
        "dataset = fetch_openml(data_id=1504)\n",
        "dataset.keys()"
      ]
    },
    {
      "cell_type": "code",
      "source": [
        "import pandas\n",
        "\n",
        "X, y = dataset.data, pandas.to_numeric(dataset.target)\n",
        "X.shape, y.shape"
      ],
      "metadata": {
        "colab": {
          "base_uri": "https://localhost:8080/"
        },
        "id": "AKxNLbpl7dtr",
        "outputId": "84068843-80c3-409b-9d95-1c28ab7dad2a"
      },
      "execution_count": 7,
      "outputs": [
        {
          "output_type": "execute_result",
          "data": {
            "text/plain": [
              "((1941, 33), (1941,))"
            ]
          },
          "metadata": {},
          "execution_count": 7
        }
      ]
    },
    {
      "cell_type": "code",
      "source": [
        "from sklearn.model_selection import train_test_split\n",
        "Xtrain, Xtest, ytrain, ytest = train_test_split(X, y, random_state=42)\n",
        "Xtrain.shape, Xtest.shape, ytrain.shape, ytest.shape"
      ],
      "metadata": {
        "colab": {
          "base_uri": "https://localhost:8080/"
        },
        "id": "hNzTgCTkbucK",
        "outputId": "f974f776-9c06-4ff6-ba05-49100aa94639"
      },
      "execution_count": 9,
      "outputs": [
        {
          "output_type": "execute_result",
          "data": {
            "text/plain": [
              "((1455, 33), (486, 33), (1455,), (486,))"
            ]
          },
          "metadata": {},
          "execution_count": 9
        }
      ]
    },
    {
      "cell_type": "markdown",
      "source": [
        "##Desabilitar warnings"
      ],
      "metadata": {
        "id": "HSHiUWvp87e1"
      }
    },
    {
      "cell_type": "code",
      "source": [
        "import warnings\n",
        "\n",
        "warnings.filterwarnings('ignore')"
      ],
      "metadata": {
        "id": "mBzZL9-486HP"
      },
      "execution_count": 5,
      "outputs": []
    },
    {
      "cell_type": "markdown",
      "source": [
        "##Combinação de Classificadores"
      ],
      "metadata": {
        "id": "6be_SRF0Z1nh"
      }
    },
    {
      "cell_type": "markdown",
      "source": [
        "###Voting"
      ],
      "metadata": {
        "id": "H3IyC0CXdZSy"
      }
    },
    {
      "cell_type": "code",
      "source": [
        "from sklearn.ensemble import VotingClassifier\n",
        "from sklearn.neighbors import KNeighborsClassifier\n",
        "from sklearn.linear_model import LogisticRegression\n",
        "from sklearn.naive_bayes import GaussianNB\n",
        "\n",
        "modelo = VotingClassifier([\n",
        "    ('knn', KNeighborsClassifier()),\n",
        "    ('log', LogisticRegression()),\n",
        "    ('gnb', GaussianNB())\n",
        "])\n",
        "\n",
        "modelo.fit(Xtrain, ytrain)\n",
        "vote_pred = modelo.predict(Xtest)\n",
        "vote_hits = vote_pred == ytest\n",
        "resultadoVoting = sum(vote_hits)/len(vote_hits)\n",
        "print(f'Resultado Voting:{resultadoVoting}')"
      ],
      "metadata": {
        "colab": {
          "base_uri": "https://localhost:8080/"
        },
        "id": "7zVDvrb1Z5Qx",
        "outputId": "3d940a25-ef17-45eb-b189-51800a560153"
      },
      "execution_count": 13,
      "outputs": [
        {
          "output_type": "stream",
          "name": "stdout",
          "text": [
            "Resultado Voting:0.6481481481481481\n"
          ]
        }
      ]
    },
    {
      "cell_type": "markdown",
      "source": [
        "###Stacking"
      ],
      "metadata": {
        "id": "PFI7BSt9dXxp"
      }
    },
    {
      "cell_type": "code",
      "source": [
        "from sklearn.ensemble import StackingClassifier\n",
        "from sklearn.neighbors import KNeighborsClassifier\n",
        "from sklearn.linear_model import LogisticRegression\n",
        "from sklearn.naive_bayes import GaussianNB\n",
        "\n",
        "stacking = StackingClassifier([\n",
        "    ('knn', KNeighborsClassifier()),\n",
        "    ('log', LogisticRegression()),\n",
        "    ('gnb', GaussianNB())\n",
        "])\n",
        "\n",
        "stacking.fit(Xtrain, ytrain)\n",
        "stacking_pred = stacking.predict(Xtest)\n",
        "stacking_hits = stacking_pred == ytest\n",
        "resultadoStacking = sum(stacking_hits)/len(stacking_hits)\n",
        "print(f'Resultado Stacking:{resultadoStacking}')"
      ],
      "metadata": {
        "colab": {
          "base_uri": "https://localhost:8080/"
        },
        "id": "yyozyFfZddnQ",
        "outputId": "65bffd46-9364-49e7-d787-7c4ac8804e42"
      },
      "execution_count": 25,
      "outputs": [
        {
          "output_type": "stream",
          "name": "stdout",
          "text": [
            "Resultado Stacking:0.6502057613168725\n"
          ]
        }
      ]
    },
    {
      "cell_type": "markdown",
      "source": [
        "###Stacking + Voting"
      ],
      "metadata": {
        "id": "07dGmle6gZRN"
      }
    },
    {
      "cell_type": "code",
      "source": [
        "from sklearn.ensemble import StackingClassifier\n",
        "from sklearn.neighbors import KNeighborsClassifier\n",
        "from sklearn.linear_model import LogisticRegression\n",
        "from sklearn.naive_bayes import GaussianNB\n",
        "from sklearn.ensemble import RandomForestClassifier\n",
        "from sklearn.ensemble import ExtraTreesClassifier\n",
        "\n",
        "voting = VotingClassifier([\n",
        "    ('knn', KNeighborsClassifier()),\n",
        "    ('log', LogisticRegression()),\n",
        "    ('gnb', GaussianNB())\n",
        "])\n",
        "\n",
        "stackingVoting = StackingClassifier([\n",
        "    ('voting', voting),\n",
        "    ('extrat', ExtraTreesClassifier()),\n",
        "    ('ranfor', RandomForestClassifier())\n",
        "], cv=3, passthrough=True)\n",
        "\n",
        "stackingVoting.fit(Xtrain, ytrain)\n",
        "stacking_pred = stackingVoting.predict(Xtest)\n",
        "stacking_pred_hits = stacking_pred == ytest\n",
        "resultadoStackingVoting = sum(stacking_pred_hits)/len(stacking_pred_hits)\n",
        "print(f'Resultado Stacking+Voting:{resultadoStackingVoting}')"
      ],
      "metadata": {
        "colab": {
          "base_uri": "https://localhost:8080/"
        },
        "id": "d0m_YKFZgXNA",
        "outputId": "9d182ec3-792c-4294-db8b-e735ee01f39a"
      },
      "execution_count": 26,
      "outputs": [
        {
          "output_type": "stream",
          "name": "stdout",
          "text": [
            "Resultado Stacking+Voting:0.6481481481481481\n"
          ]
        }
      ]
    },
    {
      "cell_type": "markdown",
      "source": [
        "##Usando GridSearch"
      ],
      "metadata": {
        "id": "_T5YoecWdPrW"
      }
    },
    {
      "cell_type": "code",
      "source": [
        "from sklearn.model_selection import GridSearchCV\n",
        "from sklearn.model_selection import cross_val_score\n",
        "import numpy as np\n",
        "\n",
        "\n",
        "grid_params = {\n",
        "    'voting': ['soft', 'hard'],\n",
        "}\n",
        "\n",
        "grid_search = GridSearchCV(voting, param_grid=grid_params, n_jobs= 8)\n",
        "grid_search.fit(X, y)\n",
        "cross_val = np.mean(cross_val_score(grid_search, X, y))\n",
        "print(cross_val, grid_search.best_params_, grid_search.best_score_)"
      ],
      "metadata": {
        "colab": {
          "base_uri": "https://localhost:8080/"
        },
        "id": "xSIKlX4ahjAz",
        "outputId": "feafa650-dd8e-4bca-f97c-35d3582d64ef"
      },
      "execution_count": 27,
      "outputs": [
        {
          "output_type": "stream",
          "name": "stdout",
          "text": [
            "0.5775726817374712 {'voting': 'hard'} 0.5775726817374712\n"
          ]
        }
      ]
    }
  ]
}