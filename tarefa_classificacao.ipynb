{
  "nbformat": 4,
  "nbformat_minor": 0,
  "metadata": {
    "colab": {
      "provenance": [],
      "authorship_tag": "ABX9TyOQ9qx5pVaXTmunyH39PKI3",
      "include_colab_link": true
    },
    "kernelspec": {
      "name": "python3",
      "display_name": "Python 3"
    },
    "language_info": {
      "name": "python"
    }
  },
  "cells": [
    {
      "cell_type": "markdown",
      "metadata": {
        "id": "view-in-github",
        "colab_type": "text"
      },
      "source": [
        "<a href=\"https://colab.research.google.com/github/JonathanRibeiro92/ReconhecimentoPadroes/blob/main/tarefa_classificacao.ipynb\" target=\"_parent\"><img src=\"https://colab.research.google.com/assets/colab-badge.svg\" alt=\"Open In Colab\"/></a>"
      ]
    },
    {
      "cell_type": "markdown",
      "source": [
        "# DataSet para Classificacao - Diabetes\n",
        "https://www.openml.org/search?type=data&sort=runs&status=active&qualities.NumberOfClasses=%3D_2&id=37\n",
        "\n",
        "Pima Indians Diabetes Database"
      ],
      "metadata": {
        "id": "OVNSS-58IdGU"
      }
    },
    {
      "cell_type": "code",
      "execution_count": null,
      "metadata": {
        "id": "-v3mMeGjGo9P",
        "colab": {
          "base_uri": "https://localhost:8080/"
        },
        "outputId": "860c112a-2511-4c87-aaea-2af5898b96bf"
      },
      "outputs": [
        {
          "output_type": "execute_result",
          "data": {
            "text/plain": [
              "dict_keys(['data', 'target', 'frame', 'categories', 'feature_names', 'target_names', 'DESCR', 'details', 'url'])"
            ]
          },
          "metadata": {},
          "execution_count": 46
        }
      ],
      "source": [
        "from sklearn.datasets import fetch_openml \n",
        "dataset = fetch_openml(data_id=37)\n",
        "\n",
        "dataset.keys()"
      ]
    },
    {
      "cell_type": "code",
      "source": [
        "import matplotlib.pyplot as plt\n",
        "from sklearn.linear_model import LogisticRegression\n",
        "from sklearn.metrics import mean_squared_error\n",
        "\n",
        "X, y = dataset.data, dataset.target\n",
        "X.shape, y.shape"
      ],
      "metadata": {
        "colab": {
          "base_uri": "https://localhost:8080/"
        },
        "id": "0cyITK2Y4-wW",
        "outputId": "247b5515-3428-47fc-e2b2-0ed50b445357"
      },
      "execution_count": null,
      "outputs": [
        {
          "output_type": "execute_result",
          "data": {
            "text/plain": [
              "((768, 8), (768,))"
            ]
          },
          "metadata": {},
          "execution_count": 47
        }
      ]
    },
    {
      "cell_type": "markdown",
      "source": [
        "# Métricas"
      ],
      "metadata": {
        "id": "3vCkYVfRcr7C"
      }
    },
    {
      "cell_type": "code",
      "source": [
        "from sklearn.preprocessing import LabelEncoder\n",
        "\n",
        "label_encoder = LabelEncoder().fit(y)\n",
        "\n",
        "y_int = label_encoder.transform(y)\n",
        "\n",
        "model = LogisticRegression(max_iter=1000)\n",
        "model.fit(X, y_int)\n",
        "ypred = model.predict(X)\n",
        "print('MSE: ', mean_squared_error(y_int, ypred))\n",
        "print('Intercept: ', model.intercept_)\n",
        "print('Coef: ', model.coef_)\n",
        "\n"
      ],
      "metadata": {
        "colab": {
          "base_uri": "https://localhost:8080/"
        },
        "id": "6Z3sVZKu8qPC",
        "outputId": "64cb4162-abfc-42b9-cb56-6ff694516cf2"
      },
      "execution_count": null,
      "outputs": [
        {
          "output_type": "stream",
          "name": "stdout",
          "text": [
            "MSE:  0.21875\n",
            "Intercept:  [-8.3644866]\n",
            "Coef:  [[ 1.22504795e-01  3.51112854e-02 -1.32989843e-02  7.79015138e-04\n",
            "  -1.17339258e-03  8.96471193e-02  8.67318608e-01  1.49732914e-02]]\n"
          ]
        }
      ]
    },
    {
      "cell_type": "markdown",
      "source": [
        "# Gráficos"
      ],
      "metadata": {
        "id": "wUedQeVLcukF"
      }
    },
    {
      "cell_type": "code",
      "source": [
        "import numpy \n",
        "\n",
        "def errorDelta(delta=100):\n",
        "  _model = LogisticRegression(max_iter=1000)\n",
        "  _model.fit(X,y_int)\n",
        "\n",
        "  intercept = _model.intercept_\n",
        "  intercept_values = numpy.linspace(intercept - delta, intercept + delta, max(delta, 100))\n",
        "  mse_array = []\n",
        "\n",
        "  for value in intercept_values:\n",
        "      model.intercept_ = value\n",
        "      ypred = model.predict(X)\n",
        "      _mse = mean_squared_error(y_int, ypred)\n",
        "      mse_array.append(_mse)\n",
        "\n",
        "  return mse_array, intercept_values\n",
        "\n",
        "from matplotlib import pyplot\n",
        "\n",
        "pyplot.ylabel(\"Erro (MSE)\")\n",
        "pyplot.xlabel(\"Intercept\")\n",
        "\n",
        "errors, weights = errorDelta(25)\n",
        "pyplot.plot(weights, errors)\n"
      ],
      "metadata": {
        "colab": {
          "base_uri": "https://localhost:8080/",
          "height": 296
        },
        "id": "CPncCC-EdsmL",
        "outputId": "bf0d4e99-a43c-4e5f-9aae-7aa6ede94d9c"
      },
      "execution_count": null,
      "outputs": [
        {
          "output_type": "execute_result",
          "data": {
            "text/plain": [
              "[<matplotlib.lines.Line2D at 0x7f3f098f3b90>]"
            ]
          },
          "metadata": {},
          "execution_count": 60
        },
        {
          "output_type": "display_data",
          "data": {
            "text/plain": [
              "<Figure size 432x288 with 1 Axes>"
            ],
            "image/png": "[encoded data removed]"
          },
          "metadata": {
            "needs_background": "light"
          }
        }
      ]
    },
    {
      "cell_type": "code",
      "source": [
        "pyplot.ylabel(\"Erro (MSE)\")\n",
        "pyplot.xlabel(\"Intercept\")\n",
        "errors, weights = errorDelta(50)\n",
        "pyplot.plot(weights, errors)"
      ],
      "metadata": {
        "colab": {
          "base_uri": "https://localhost:8080/",
          "height": 296
        },
        "id": "Dklz7w-CfEuI",
        "outputId": "b4e3aae7-15db-47cd-9a7f-71a40dc32bca"
      },
      "execution_count": null,
      "outputs": [
        {
          "output_type": "execute_result",
          "data": {
            "text/plain": [
              "[<matplotlib.lines.Line2D at 0x7f3f098d2c10>]"
            ]
          },
          "metadata": {},
          "execution_count": 61
        },
        {
          "output_type": "display_data",
          "data": {
            "text/plain": [
              "<Figure size 432x288 with 1 Axes>"
            ],
            "image/png": "[encoded data removed]"
          },
          "metadata": {
            "needs_background": "light"
          }
        }
      ]
    },
    {
      "cell_type": "code",
      "source": [
        "pyplot.ylabel(\"Erro (MSE)\")\n",
        "pyplot.xlabel(\"Intercept\")\n",
        "errors, weights = errorDelta(100)\n",
        "pyplot.plot(weights, errors)"
      ],
      "metadata": {
        "colab": {
          "base_uri": "https://localhost:8080/",
          "height": 296
        },
        "id": "AObB8UUUfH4P",
        "outputId": "30c371fb-8e5e-44e5-a92c-a88c8e19c969"
      },
      "execution_count": null,
      "outputs": [
        {
          "output_type": "execute_result",
          "data": {
            "text/plain": [
              "[<matplotlib.lines.Line2D at 0x7f3f0983b6d0>]"
            ]
          },
          "metadata": {},
          "execution_count": 62
        },
        {
          "output_type": "display_data",
          "data": {
            "text/plain": [
              "<Figure size 432x288 with 1 Axes>"
            ],
            "image/png": "[encoded data removed]"
          },
          "metadata": {
            "needs_background": "light"
          }
        }
      ]
    }
  ]
}