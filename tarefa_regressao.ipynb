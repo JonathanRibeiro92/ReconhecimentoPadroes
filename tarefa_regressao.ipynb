{
  "nbformat": 4,
  "nbformat_minor": 0,
  "metadata": {
    "colab": {
      "provenance": [],
      "authorship_tag": "ABX9TyOyh0HtjLk6qiAL0QOo1xRm",
      "include_colab_link": true
    },
    "kernelspec": {
      "name": "python3",
      "display_name": "Python 3"
    },
    "language_info": {
      "name": "python"
    }
  },
  "cells": [
    {
      "cell_type": "markdown",
      "metadata": {
        "id": "view-in-github",
        "colab_type": "text"
      },
      "source": [
        "<a href=\"https://colab.research.google.com/github/JonathanRibeiro92/ReconhecimentoPadroes/blob/main/tarefa_regressao.ipynb\" target=\"_parent\"><img src=\"https://colab.research.google.com/assets/colab-badge.svg\" alt=\"Open In Colab\"/></a>"
      ]
    },
    {
      "cell_type": "markdown",
      "source": [
        "# **DataSet para regressão linear - Bodyfat**\n",
        "https://www.openml.org/search?type=data&sort=runs&status=active&qualities.NumberOfClasses=lte_1&id=560\n",
        "\n",
        "Lista estimativas da porcentagem de gordura corporal determinada por pesagem subaquática e várias medidas de circunferência corporal para 252 homens."
      ],
      "metadata": {
        "id": "3WldyL1RaZyc"
      }
    },
    {
      "cell_type": "code",
      "execution_count": 1,
      "metadata": {
        "colab": {
          "base_uri": "https://localhost:8080/"
        },
        "id": "KQrMqlqnHmZq",
        "outputId": "b39d9f7a-df15-4fe2-b5cb-3acd50eaa913"
      },
      "outputs": [
        {
          "output_type": "execute_result",
          "data": {
            "text/plain": [
              "((252, 14), (252,))"
            ]
          },
          "metadata": {},
          "execution_count": 1
        }
      ],
      "source": [
        "from sklearn.datasets import fetch_openml \n",
        "dataset = fetch_openml(data_id=560)\n",
        "X, y = dataset.data, dataset.target\n",
        "\n",
        "X.shape, y.shape"
      ]
    },
    {
      "cell_type": "code",
      "source": [
        "from sklearn.linear_model import LinearRegression\n",
        "from sklearn.metrics import mean_squared_error\n",
        "\n",
        "model = LinearRegression()\n",
        "model.fit(X, y)\n",
        "ypred = model.predict(X)\n",
        "print('MSE: ', mean_squared_error(y, ypred))\n",
        "print('Intercept: ', model.intercept_)\n",
        "print('Coef: ', model.coef_)"
      ],
      "metadata": {
        "colab": {
          "base_uri": "https://localhost:8080/"
        },
        "id": "WI_JR_Et8hqr",
        "outputId": "a05ecbf8-ba98-4773-a3b3-14e547c4ad27"
      },
      "execution_count": 4,
      "outputs": [
        {
          "output_type": "stream",
          "name": "stdout",
          "text": [
            "MSE:  1.527203518390806\n",
            "Intercept:  450.01256934457547\n",
            "Coef:  [-4.11237849e+02  1.25870031e-02  1.00541597e-02 -7.98073928e-03\n",
            " -2.84558253e-02  2.67803354e-02  1.85648834e-02  1.91660401e-02\n",
            " -1.67583631e-02 -4.63900522e-03 -8.56761181e-02 -5.50508219e-02\n",
            "  3.38634347e-02  7.34493756e-03]\n"
          ]
        }
      ]
    },
    {
      "cell_type": "code",
      "source": [
        "import numpy \n",
        "\n",
        "def errorDelta(delta=100):\n",
        "  _model = LinearRegression()\n",
        "  _model.fit(X,y)\n",
        "\n",
        "  intercept = _model.intercept_\n",
        "  intercept_values = numpy.linspace(intercept - delta, intercept + delta, max(delta, 100))\n",
        "  mse_array = []\n",
        "\n",
        "  for value in intercept_values:\n",
        "      model.intercept_ = value\n",
        "      ypred = model.predict(X)\n",
        "      _mse = mean_squared_error(y, ypred)\n",
        "      mse_array.append(_mse)\n",
        "\n",
        "  return mse_array, intercept_values\n",
        "\n",
        "from matplotlib import pyplot\n",
        "\n",
        "pyplot.ylabel(\"Erro (MSE)\")\n",
        "pyplot.xlabel(\"Intercept\")\n",
        "\n",
        "errors, weights = errorDelta(25)\n",
        "pyplot.plot(weights, errors)"
      ],
      "metadata": {
        "colab": {
          "base_uri": "https://localhost:8080/",
          "height": 296
        },
        "id": "B0fM3iQy9mcy",
        "outputId": "0e24b3b8-2912-4428-c7f7-1c056b7aad09"
      },
      "execution_count": 6,
      "outputs": [
        {
          "output_type": "execute_result",
          "data": {
            "text/plain": [
              "[<matplotlib.lines.Line2D at 0x7f3259703d90>]"
            ]
          },
          "metadata": {},
          "execution_count": 6
        },
        {
          "output_type": "display_data",
          "data": {
            "text/plain": [
              "<Figure size 432x288 with 1 Axes>"
            ],
            "image/png": "[encoded data removed]"
          },
          "metadata": {
            "needs_background": "light"
          }
        }
      ]
    }
  ]
}