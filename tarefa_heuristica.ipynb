{
  "nbformat": 4,
  "nbformat_minor": 0,
  "metadata": {
    "colab": {
      "provenance": [],
      "authorship_tag": "ABX9TyPsZqL6ecsJbqiaoM1sGAY7",
      "include_colab_link": true
    },
    "kernelspec": {
      "name": "python3",
      "display_name": "Python 3"
    },
    "language_info": {
      "name": "python"
    }
  },
  "cells": [
    {
      "cell_type": "markdown",
      "metadata": {
        "id": "view-in-github",
        "colab_type": "text"
      },
      "source": [
        "<a href=\"https://colab.research.google.com/github/JonathanRibeiro92/ReconhecimentoPadroes/blob/main/tarefa_heuristica.ipynb\" target=\"_parent\"><img src=\"https://colab.research.google.com/assets/colab-badge.svg\" alt=\"Open In Colab\"/></a>"
      ]
    },
    {
      "cell_type": "markdown",
      "source": [
        "# Carregamento Dataset Iris"
      ],
      "metadata": {
        "id": "aqrPQtTW6R7j"
      }
    },
    {
      "cell_type": "code",
      "source": [
        "from sklearn.datasets import load_iris\n",
        "iris = load_iris()\n",
        "X, y = iris.data[:,2:], iris.target"
      ],
      "metadata": {
        "id": "E0b60Vif6bri"
      },
      "execution_count": 20,
      "outputs": []
    },
    {
      "cell_type": "markdown",
      "source": [
        "# Implementação Professor"
      ],
      "metadata": {
        "id": "325oL4Ju2N4v"
      }
    },
    {
      "cell_type": "code",
      "execution_count": 21,
      "metadata": {
        "id": "lHmehg2Azlg6"
      },
      "outputs": [],
      "source": [
        "from sklearn.base import BaseEstimator, ClassifierMixin\n",
        "from collections import Counter\n",
        "import numpy as np\n",
        "\n",
        "def maisFrequente(y):\n",
        "  return Counter(y.flat).most_common(1)[0][0]\n",
        "\n",
        "def impureza(y): #Gini\n",
        "  labels = list(set(y))\n",
        "  labels.sort()\n",
        "  probabilidades = np.zeros((len(labels),))\n",
        "  for i,k in enumerate(labels):\n",
        "    probabilidades[i] = sum(y==k)/len(y)\n",
        "  result = 1 - sum(probabilidades**2)\n",
        "  return result\n",
        "\n",
        "def impurezaValor(x, y, valor):\n",
        "  maiores = x > valor\n",
        "  impurezaMaiores = impureza(y[maiores])\n",
        "  propMaiores = sum(maiores)/len(y)\n",
        "  impurezaMenores = impureza(y[~maiores])\n",
        "  propMenores = sum(~maiores)/len(y)\n",
        "  impurezaTotal = propMaiores*impurezaMaiores + propMenores*impurezaMenores\n",
        "  return impurezaTotal, impurezaMaiores, impurezaMenores\n",
        "\n",
        "def melhorValor(x, y):\n",
        "  result = None\n",
        "  menorImpureza = float('inf')\n",
        "  xmax = np.max(x)\n",
        "  xmin = np.min(x)\n",
        "  while True:\n",
        "    valor = (xmin+xmax)/2\n",
        "    impTotal, impMaiores, impMenores = impurezaValor(x, y, valor)\n",
        "    if impTotal < menorImpureza:\n",
        "      menorImpureza = impTotal\n",
        "      result = valor\n",
        "      if impMaiores == 0 or impMenores == 0:\n",
        "        break\n",
        "      if impMaiores < impMenores:\n",
        "        xmin = valor\n",
        "      else:\n",
        "        xmax = valor\n",
        "    else:\n",
        "      break\n",
        "  return result, menorImpureza\n",
        "\n",
        "def melhorCaracteristica(X, y):\n",
        "  impurezas = []\n",
        "  valores = []\n",
        "  for caracteristica in range(X.shape[1]):\n",
        "    valor, imp = melhorValor(X[:,caracteristica], y)\n",
        "    impurezas.append(imp)\n",
        "    valores.append(valor)\n",
        "  impurezas = np.array(impurezas)\n",
        "  caracteristica = np.argmin(impurezas)\n",
        "  return caracteristica, valores[caracteristica], impurezas[caracteristica]\n",
        "\n",
        "class Arvore(BaseEstimator, ClassifierMixin):\n",
        "  def fit(self, X, y):\n",
        "    self.caracteristica, self.valor, self.imp = melhorCaracteristica(X, y)\n",
        "    maiores = X[:,self.caracteristica] > self.valor\n",
        "    if sum(maiores)>0 and sum(~maiores)>0:\n",
        "      self.maiores = Arvore()\n",
        "      self.maiores.fit(X[maiores,:], y[maiores])\n",
        "      self.menores = Arvore()\n",
        "      self.menores.fit(X[~maiores,:], y[~maiores])\n",
        "    else:\n",
        "      self.resposta = maisFrequente(y)\n",
        "\n",
        "  def predict(self, X):\n",
        "    y = np.empty((X.shape[0]))\n",
        "    if hasattr(self, \"resposta\"):\n",
        "      y[:] = self.resposta\n",
        "    else:\n",
        "      maiores = X[:,self.caracteristica] > self.valor\n",
        "      y[maiores] = self.maiores.predict(X[maiores,:])\n",
        "      y[~maiores] = self.menores.predict(X[~maiores,:])\n",
        "    return y"
      ]
    },
    {
      "cell_type": "markdown",
      "source": [
        "#Minha Implementação"
      ],
      "metadata": {
        "id": "KJGOLFJN-GsH"
      }
    },
    {
      "cell_type": "code",
      "source": [
        "import random\n",
        "seed = 42\n",
        "random.seed(seed)\n",
        "\n",
        "def melhorCaracteristicaJ(x):\n",
        "  caracteristica = random.randint(0, x.shape[1] - 1)\n",
        "  x_min = np.min(x[:, caracteristica])\n",
        "  x_max = np.max(x[:, caracteristica])\n",
        "  valor = (random.random() * (x_max - x_min)**2 + x_min)/ (x.shape[1] - 1)\n",
        "  return caracteristica, valor\n",
        "\n",
        "class ArvoreJ(BaseEstimator, ClassifierMixin):\n",
        "  def fit(self, x, y):\n",
        "    self.caracteristica, self.valor = melhorCaracteristicaJ(x)\n",
        "    maiores = X[:,self.caracteristica] > self.valor\n",
        "    if sum(maiores)>0 and sum(~maiores)>0:\n",
        "      self.maiores = Arvore()\n",
        "      self.maiores.fit(X[maiores,:], y[maiores])\n",
        "      self.menores = Arvore()\n",
        "      self.menores.fit(X[~maiores,:], y[~maiores])\n",
        "    else:\n",
        "      self.resposta = maisFrequente(y)\n",
        "  \n",
        "  def predict(self, X):\n",
        "    y = np.empty((X.shape[0]))\n",
        "    if hasattr(self, \"resposta\"):\n",
        "      y[:] = self.resposta\n",
        "    else:\n",
        "      maiores = X[:,self.caracteristica] > self.valor\n",
        "      y[maiores] = self.maiores.predict(X[maiores,:])\n",
        "      y[~maiores] = self.menores.predict(X[~maiores,:])\n",
        "    return y"
      ],
      "metadata": {
        "id": "Ei34zyw4-KoC"
      },
      "execution_count": 22,
      "outputs": []
    },
    {
      "cell_type": "markdown",
      "source": [
        "# Função para plotar regição de Decisão"
      ],
      "metadata": {
        "id": "n_3WVFBh8oji"
      }
    },
    {
      "cell_type": "code",
      "source": [
        "import matplotlib.pyplot as plt\n",
        "\n",
        "def plotDecisao(modelo, X, y):\n",
        "    modelo.fit(X, y)\n",
        "    x0s = np.linspace(np.min(X[:,0])-0.2, np.max(X[:,0])+0.2, 100)\n",
        "    x1s = np.linspace(np.min(X[:,1])-0.2, np.max(X[:,1])+0.2, 100)\n",
        "    x0, x1 = np.meshgrid(x0s, x1s)\n",
        "    Xdec = np.c_[x0.ravel(), x1.ravel()]\n",
        "    ypred = modelo.predict(Xdec)\n",
        "    plt.contourf(x0, x1, ypred.reshape(x0.shape), alpha=0.25)\n",
        "    for k in set(y):\n",
        "        plt.plot(X[:,0][y==k], X[:,1][y==k], 'o', label=f\"{iris.target_names[k]} [{k}]\")\n",
        "    plt.xlabel(f\"X[0]: {iris.feature_names[0]}\")\n",
        "    plt.ylabel(f\"X[1]: {iris.feature_names[1]}\")\n",
        "    plt.show()"
      ],
      "metadata": {
        "id": "hGEd-jPK8rs5"
      },
      "execution_count": 23,
      "outputs": []
    },
    {
      "cell_type": "markdown",
      "source": [
        "#Comparação das Regiões de Decisão"
      ],
      "metadata": {
        "id": "1b_fHenkWlv1"
      }
    },
    {
      "cell_type": "markdown",
      "source": [
        "##Implementação do Professor"
      ],
      "metadata": {
        "id": "bgOlYguJWus0"
      }
    },
    {
      "cell_type": "code",
      "source": [
        "modeloProfessor = Arvore()\n",
        "plotDecisao(modeloProfessor, X, y)"
      ],
      "metadata": {
        "colab": {
          "base_uri": "https://localhost:8080/",
          "height": 279
        },
        "id": "xQ6LoPVlWqA-",
        "outputId": "d3ce649f-df7c-4d3a-bbf8-7821e7188907"
      },
      "execution_count": 24,
      "outputs": [
        {
          "output_type": "display_data",
          "data": {
            "text/plain": [
              "<Figure size 432x288 with 1 Axes>"
            ],
            "image/png": "[encoded data removed]"
          },
          "metadata": {
            "needs_background": "light"
          }
        }
      ]
    },
    {
      "cell_type": "markdown",
      "source": [
        "##Minha Implementação"
      ],
      "metadata": {
        "id": "v4QtgU4yW0Sf"
      }
    },
    {
      "cell_type": "code",
      "source": [
        "meuModelo = ArvoreJ()\n",
        "plotDecisao(meuModelo, X, y)"
      ],
      "metadata": {
        "colab": {
          "base_uri": "https://localhost:8080/",
          "height": 279
        },
        "id": "-5bwAg82W7HE",
        "outputId": "4d1fe764-fe4a-46d1-be53-627934e4e51e"
      },
      "execution_count": 25,
      "outputs": [
        {
          "output_type": "display_data",
          "data": {
            "text/plain": [
              "<Figure size 432x288 with 1 Axes>"
            ],
            "image/png": "[encoded data removed]"
          },
          "metadata": {
            "needs_background": "light"
          }
        }
      ]
    },
    {
      "cell_type": "markdown",
      "source": [
        "##Implementação ScikitLearn"
      ],
      "metadata": {
        "id": "2jOZICxZXetx"
      }
    },
    {
      "cell_type": "code",
      "source": [
        "from sklearn.tree import DecisionTreeClassifier\n",
        "modeloArvoreSklearn = DecisionTreeClassifier(random_state=seed)\n",
        "plotDecisao(modeloArvoreSklearn, X, y)"
      ],
      "metadata": {
        "colab": {
          "base_uri": "https://localhost:8080/",
          "height": 279
        },
        "id": "R-bX3rsrXiSn",
        "outputId": "3194a98a-588f-48f1-abec-90188043b835"
      },
      "execution_count": 26,
      "outputs": [
        {
          "output_type": "display_data",
          "data": {
            "text/plain": [
              "<Figure size 432x288 with 1 Axes>"
            ],
            "image/png": "[encoded data removed]"
          },
          "metadata": {
            "needs_background": "light"
          }
        }
      ]
    },
    {
      "cell_type": "markdown",
      "source": [
        "##Comparações de Resultados"
      ],
      "metadata": {
        "id": "nmqk0cD2YUgf"
      }
    },
    {
      "cell_type": "code",
      "source": [
        "from sklearn.dummy import DummyClassifier\n",
        "from sklearn.model_selection import cross_val_score\n",
        "from sklearn.metrics import accuracy_score\n",
        "\n",
        "def comparar(X, y):\n",
        "  ypred = modeloProfessor.predict(X)\n",
        "  cross_val = cross_val_score(modeloProfessor, X, y)\n",
        "  acuracia = accuracy_score(y, ypred)\n",
        "  print(f'Modelo Professor:  Acurácia:{acuracia}, CrossValidate:{cross_val}')\n",
        "\n",
        "  meuModelo.fit(X,y)\n",
        "  ypred = meuModelo.predict(X)\n",
        "  cross_val = cross_val_score(meuModelo, X, y)\n",
        "  acuracia = accuracy_score(y, ypred)\n",
        "  print(f'Meu modelo:  Acurácia:{acuracia}, CrossValidate:{cross_val}')\n",
        "\n",
        "\n",
        "  ypred = modeloArvoreSklearn.predict(X)\n",
        "  cross_val = cross_val_score(modeloArvoreSklearn, X, y)\n",
        "  acuracia = accuracy_score(y, ypred)\n",
        "  print(f'Modelo Sklearn:  Acurácia:{acuracia}, CrossValidate:{cross_val}')\n",
        "\n",
        "  ypred = modeloArvoreSklearn.predict(X)\n",
        "  cross_val = cross_val_score(DummyClassifier(), X, y)\n",
        "  acuracia = accuracy_score(y, ypred)\n",
        "  print(f'Modelo Sklearn:  Acurácia:{acuracia}, CrossValidate:{cross_val}')\n",
        "\n",
        "  zeroR=DummyClassifier(strategy=\"most_frequent\")\n",
        "  zeroR.fit(X,y)\n",
        "  ypred = zeroR.predict(X)\n",
        "  cross_val = cross_val_score(zeroR, X, y)\n",
        "  acuracia = accuracy_score(y, ypred)\n",
        "  print(f'Modelo Professor:  Acurácia:{acuracia}, CrossValidate:{cross_val}')\n",
        "\n",
        "comparar(X, y)"
      ],
      "metadata": {
        "colab": {
          "base_uri": "https://localhost:8080/"
        },
        "id": "U9w3BRSvYZPH",
        "outputId": "01513338-2672-45ba-d784-196d49afb69d"
      },
      "execution_count": 35,
      "outputs": [
        {
          "output_type": "stream",
          "name": "stdout",
          "text": [
            "Modelo Professor:  Acurácia:0.9933333333333333, CrossValidate:[0.96666667 0.96666667 0.9        0.93333333 1.        ]\n",
            "Meu modelo:  Acurácia:0.3333333333333333, CrossValidate:[0.33333333        nan 0.33333333        nan        nan]\n",
            "Modelo Sklearn:  Acurácia:0.9933333333333333, CrossValidate:[0.96666667 0.96666667 0.9        0.96666667 1.        ]\n",
            "Modelo Sklearn:  Acurácia:0.9933333333333333, CrossValidate:[0.33333333 0.33333333 0.33333333 0.33333333 0.33333333]\n",
            "Modelo Professor:  Acurácia:0.3333333333333333, CrossValidate:[0.33333333 0.33333333 0.33333333 0.33333333 0.33333333]\n"
          ]
        },
        {
          "output_type": "stream",
          "name": "stderr",
          "text": [
            "/usr/local/lib/python3.7/dist-packages/sklearn/model_selection/_validation.py:372: FitFailedWarning: \n",
            "3 fits failed out of a total of 5.\n",
            "The score on these train-test partitions for these parameters will be set to nan.\n",
            "If these failures are not expected, you can try to debug them by setting error_score='raise'.\n",
            "\n",
            "Below are more details about the failures:\n",
            "--------------------------------------------------------------------------------\n",
            "3 fits failed with the following error:\n",
            "Traceback (most recent call last):\n",
            "  File \"/usr/local/lib/python3.7/dist-packages/sklearn/model_selection/_validation.py\", line 680, in _fit_and_score\n",
            "    estimator.fit(X_train, y_train, **fit_params)\n",
            "  File \"<ipython-input-22-778c47222e63>\", line 18, in fit\n",
            "    self.maiores.fit(X[maiores,:], y[maiores])\n",
            "IndexError: boolean index did not match indexed array along dimension 0; dimension is 120 but corresponding boolean dimension is 150\n",
            "\n",
            "  warnings.warn(some_fits_failed_message, FitFailedWarning)\n"
          ]
        }
      ]
    }
  ]
}